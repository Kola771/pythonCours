{
 "cells": [
  {
   "cell_type": "code",
   "execution_count": null,
   "metadata": {},
   "outputs": [],
   "source": [
    "class ContactManager:\n",
    "    def addConctat(nom=None, prenom=None, phone=None, adress=None):\n",
    "        return nom\n",
    "        "
   ]
  }
 ],
 "metadata": {
  "kernelspec": {
   "display_name": "Python 3",
   "language": "python",
   "name": "python3"
  },
  "language_info": {
   "name": "python",
   "version": "3.11.4 (tags/v3.11.4:d2340ef, Jun  7 2023, 05:45:37) [MSC v.1934 64 bit (AMD64)]"
  },
  "orig_nbformat": 4,
  "vscode": {
   "interpreter": {
    "hash": "0aff181140c6cefaaaf72e346b8c4ff97d18d0699fd8c1d0fe1c867bf0852954"
   }
  }
 },
 "nbformat": 4,
 "nbformat_minor": 2
}
