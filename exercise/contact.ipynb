{
 "cells": [
  {
   "cell_type": "code",
   "execution_count": 78,
   "metadata": {},
   "outputs": [
    {
     "ename": "ModuleNotFoundError",
     "evalue": "No module named 'conca'",
     "output_type": "error",
     "traceback": [
      "\u001b[1;31m---------------------------------------------------------------------------\u001b[0m",
      "\u001b[1;31mModuleNotFoundError\u001b[0m                       Traceback (most recent call last)",
      "Cell \u001b[1;32mIn[78], line 1\u001b[0m\n\u001b[1;32m----> 1\u001b[0m \u001b[39mfrom\u001b[39;00m \u001b[39mconca\u001b[39;00m \u001b[39mimport\u001b[39;00m ContactManager\n\u001b[0;32m      3\u001b[0m \u001b[39mprint\u001b[39m(conca\u001b[39m.\u001b[39mgreeting(\u001b[39m\"\u001b[39m\u001b[39mJonathan\u001b[39m\u001b[39m\"\u001b[39m))\n",
      "\u001b[1;31mModuleNotFoundError\u001b[0m: No module named 'conca'"
     ]
    }
   ],
   "source": [
    "import ContactManager\n",
    "\n",
    "# Classe en python\n",
    "class Conctat:\n",
    "    # Voici notre constructor\n",
    "    def __init__(self, nom=None, prenom=None, phone=None, adress=None):\n",
    "        self.nom = nom\n",
    "        self.prenom = prenom\n",
    "        self.phone = phone\n",
    "        self.adress = adress\n",
    "    \n",
    "    def ajouter(self, nom):\n",
    "        contact = ContactManager.addContact(\"sfdfd\")\n",
    "        print(contact)\n",
    "        # contact.addContact(nom)\n",
    "myContacts = Conctat()\n",
    "print(myContacts.nom, myContacts.prenom)\n",
    "myContacts.ajouter(\"hello\")"
   ]
  }
 ],
 "metadata": {
  "kernelspec": {
   "display_name": "Python 3",
   "language": "python",
   "name": "python3"
  },
  "language_info": {
   "codemirror_mode": {
    "name": "ipython",
    "version": 3
   },
   "file_extension": ".py",
   "mimetype": "text/x-python",
   "name": "python",
   "nbconvert_exporter": "python",
   "pygments_lexer": "ipython3",
   "version": "3.11.4"
  },
  "orig_nbformat": 4,
  "vscode": {
   "interpreter": {
    "hash": "0aff181140c6cefaaaf72e346b8c4ff97d18d0699fd8c1d0fe1c867bf0852954"
   }
  }
 },
 "nbformat": 4,
 "nbformat_minor": 2
}
