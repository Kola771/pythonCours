{
 "cells": [
  {
   "cell_type": "code",
   "execution_count": 2,
   "metadata": {},
   "outputs": [
    {
     "name": "stdout",
     "output_type": "stream",
     "text": [
      "bonjour tout le monde\n"
     ]
    }
   ],
   "source": [
    "## Mon premier code python avec jupyter notebook\n",
    "print(\"bonjour tout le monde\")"
   ]
  },
  {
   "cell_type": "code",
   "execution_count": 6,
   "metadata": {},
   "outputs": [
    {
     "name": "stdout",
     "output_type": "stream",
     "text": [
      "x + y = 9\n",
      "x - y = -1\n",
      "x / y = 0.8\n",
      "x // y = 0\n",
      "x * y = 20\n",
      "x ^ y = 1024\n"
     ]
    }
   ],
   "source": [
    "x = 4\n",
    "y = 5\n",
    "# Addition\n",
    "print('x + y =', x + y)\n",
    "# Souscription\n",
    "print('x - y =', x - y)\n",
    "# Division\n",
    "print('x / y =', x / y)\n",
    "# division entiere (tres utile pour les tableaux Numpy)\n",
    "print('x // y =', x // y) \n",
    "# Mutiplication\n",
    "print('x * y =', x * y)\n",
    "# Carré\n",
    "print('x ^ y =', x ** y)"
   ]
  },
  {
   "cell_type": "code",
   "execution_count": 7,
   "metadata": {},
   "outputs": [
    {
     "data": {
      "text/plain": [
       "3"
      ]
     },
     "execution_count": 7,
     "metadata": {},
     "output_type": "execute_result"
    }
   ],
   "source": [
    "# Déclaration d'une fonction\n",
    "def test():\n",
    "    tester = 1 + 2\n",
    "    return tester\n",
    "\n",
    "test()"
   ]
  },
  {
   "cell_type": "code",
   "execution_count": 43,
   "metadata": {},
   "outputs": [
    {
     "data": {
      "text/plain": [
       "(\"L'energie calculée est supérieure à l'énergie prédéfinie\",\n",
       " 1079.1000000000001)"
      ]
     },
     "execution_count": 43,
     "metadata": {},
     "output_type": "execute_result"
    }
   ],
   "source": [
    "def function(masse, hauteur, g=9.81, last=True):\n",
    "    energie = masse * hauteur * g\n",
    "    if (energie >= last):\n",
    "        return \"L'energie calculée est supérieure à l'énergie prédéfinie\", energie\n",
    "    else :\n",
    "        return \"L'energie calculée est inférieure à l'énergie prédéfinie\", energie\n",
    "\n",
    "function(masse=11, hauteur=10, last=1000)"
   ]
  },
  {
   "cell_type": "code",
   "execution_count": 47,
   "metadata": {},
   "outputs": [
    {
     "name": "stdout",
     "output_type": "stream",
     "text": [
      "négatif\n"
     ]
    }
   ],
   "source": [
    "def test_du_signe(valeur):\n",
    "  if valeur < 0:\n",
    "    print('négatif')\n",
    "  elif valeur == 0:\n",
    "    print('nul')\n",
    "  else:\n",
    "    print('positif')\n",
    "\n",
    "test_du_signe(-2)"
   ]
  },
  {
   "cell_type": "code",
   "execution_count": 50,
   "metadata": {},
   "outputs": [
    {
     "name": "stdout",
     "output_type": "stream",
     "text": [
      "0\n",
      "1\n",
      "2\n",
      "3\n",
      "4\n",
      "5\n",
      "6\n",
      "7\n",
      "8\n",
      "9\n",
      "=================================================\n",
      "0\n",
      "2\n",
      "4\n",
      "6\n",
      "8\n"
     ]
    }
   ],
   "source": [
    "for i in range(0, 10):\n",
    "    print(i)\n",
    "print(\"=================================================\")\n",
    "for i in range(0, 10, 2):\n",
    "    print(i)"
   ]
  },
  {
   "cell_type": "code",
   "execution_count": 54,
   "metadata": {},
   "outputs": [
    {
     "name": "stdout",
     "output_type": "stream",
     "text": [
      "5\n",
      "6\n",
      "7\n",
      "8\n",
      "9\n",
      "10\n",
      "11\n",
      "12\n",
      "13\n",
      "14\n"
     ]
    }
   ],
   "source": [
    "x = 5\n",
    "while(x < 15):\n",
    "    print(x)\n",
    "    x += 1 # incrémentation de x à chaque boucle"
   ]
  },
  {
   "cell_type": "code",
   "execution_count": 63,
   "metadata": {},
   "outputs": [
    {
     "name": "stdout",
     "output_type": "stream",
     "text": [
      "[0, 1, 1, 2, 3, 5, 8]\n",
      "[0, 1, 1, 2, 3, 5, 8, 13, 21, 34, 55, 89]\n",
      "[0, 1, 1, 2, 3, 5, 8, 13]\n"
     ]
    }
   ],
   "source": [
    "a = 0\n",
    "b = 1\n",
    "i = 0\n",
    "tab = [a, b]\n",
    "while(i < 5):\n",
    "    a, b = b, a+b # prend la valeur de b pour a et la valeur de a+b pour b\n",
    "    tab.append(b)\n",
    "    i += 1\n",
    "print(tab)\n",
    "\n",
    "def functionFinabocci(a, b, limit, x = 0):\n",
    "    tab = [a, b]\n",
    "    while x < limit :\n",
    "        a, b = b, a+b # prend la valeur de b pour a et la valeur de a+b pour b\n",
    "        tab.append(b)\n",
    "        x += 1\n",
    "    return tab\n",
    "\n",
    "print(functionFinabocci(0, 1, 10))\n",
    "\n",
    "def functionFinabocci0(a, b, limit):\n",
    "    tab = [a, b]\n",
    "    while b < limit :\n",
    "        a, b = b, a+b # prend la valeur de b pour a et la valeur de a+b pour b\n",
    "        tab.append(b)\n",
    "    return tab\n",
    "\n",
    "print(functionFinabocci0(0, 1, 10))"
   ]
  },
  {
   "cell_type": "code",
   "execution_count": 68,
   "metadata": {},
   "outputs": [
    {
     "name": "stdout",
     "output_type": "stream",
     "text": [
      "index 0: 1\n",
      "dernier index (-1): 9\n",
      "index 0-2: [1, 2, 4]\n",
      "index 1-2: [2, 4]\n",
      "order inverse: [9, 8, 7, 6, 5, 4, 2, 1]\n"
     ]
    }
   ],
   "source": [
    "listes = [1, 2, 4, 5, 6, 7, 8, 9]\n",
    "\n",
    "tuples = (1, 2, 3, 4)\n",
    "\n",
    "print('index 0:', listes[0])\n",
    "print('dernier index (-1):', listes[-1])\n",
    "print('index 0-2:', listes[0:3])\n",
    "print('index 1-2:', listes[1:3])\n",
    "print(\"order inverse:\", listes[::-1])"
   ]
  },
  {
   "cell_type": "code",
   "execution_count": 69,
   "metadata": {},
   "outputs": [
    {
     "name": "stdout",
     "output_type": "stream",
     "text": [
      "['Paris', 'Berlin', 'Londres', 'Bruxelles']\n",
      "['Paris', 'Berlin', 'Londres', 'Bruxelles', 'Dublin']\n",
      "['Paris', 'Berlin', 'Madrid', 'Londres', 'Bruxelles', 'Dublin']\n",
      "['Paris', 'Berlin', 'Madrid', 'Londres', 'Bruxelles', 'Dublin', 'Amsterdam', 'Rome']\n",
      "longeur de la liste: 8\n",
      "['Amsterdam', 'Berlin', 'Bruxelles', 'Dublin', 'Londres', 'Madrid', 'Paris', 'Rome']\n",
      "1\n"
     ]
    }
   ],
   "source": [
    "villes = ['Paris', 'Berlin', 'Londres', 'Bruxelles'] # liste initiale\n",
    "print(villes)\n",
    "\n",
    "villes.append('Dublin') # Rajoute un élément a la fin de la liste\n",
    "print(villes)\n",
    "\n",
    "villes.insert(2, 'Madrid') # Rajoute un élément a l'index indiqué\n",
    "print(villes)\n",
    "\n",
    "villes.extend(['Amsterdam', 'Rome']) # Rajoute une liste a la fin de notre liste\n",
    "print(villes)\n",
    "\n",
    "print('longeur de la liste:', len(villes)) #affiche la longueur de la liste\n",
    "\n",
    "villes.sort(reverse=False) # trie la liste par ordre alphabétique / numérique\n",
    "print(villes)\n",
    "\n",
    "print(villes.count('Paris')) # compte le nombre de fois qu'un élément apparait dans la liste"
   ]
  },
  {
   "cell_type": "code",
   "execution_count": 70,
   "metadata": {},
   "outputs": [
    {
     "name": "stdout",
     "output_type": "stream",
     "text": [
      "Paris\n",
      "Berlin\n",
      "Londres\n",
      "Bruxelles\n"
     ]
    }
   ],
   "source": [
    "villes = ['Paris', 'Berlin', 'Londres', 'Bruxelles'] # liste initiale\n",
    "for element in villes:\n",
    "    print(element)"
   ]
  },
  {
   "cell_type": "code",
   "execution_count": 71,
   "metadata": {},
   "outputs": [
    {
     "name": "stdout",
     "output_type": "stream",
     "text": [
      "0 Paris\n",
      "1 Berlin\n",
      "2 Londres\n",
      "3 Bruxelles\n"
     ]
    }
   ],
   "source": [
    "villes = ['Paris', 'Berlin', 'Londres', 'Bruxelles'] # liste initiale\n",
    "for index, element in enumerate(villes):\n",
    "    print(index, element)"
   ]
  },
  {
   "cell_type": "code",
   "execution_count": 72,
   "metadata": {},
   "outputs": [
    {
     "name": "stdout",
     "output_type": "stream",
     "text": [
      "Paris 312\n",
      "Berlin 52\n",
      "Londres 654\n",
      "Bruxelles 23\n"
     ]
    }
   ],
   "source": [
    "villes = ['Paris', 'Berlin', 'Londres', 'Bruxelles'] # liste initiale\n",
    "liste = [312, 52, 654, 23, 65, 12, 678]\n",
    "for element_1, element_2 in zip(villes, liste):\n",
    "    print(element_1, element_2)"
   ]
  },
  {
   "cell_type": "code",
   "execution_count": 78,
   "metadata": {},
   "outputs": [
    {
     "name": "stdout",
     "output_type": "stream",
     "text": [
      "[1, 1, 2, 3, 5, 8, 13, 21, 34, 55, 89]\n"
     ]
    }
   ],
   "source": [
    "def fibonacci(n):\n",
    "    a=0\n",
    "    b=1\n",
    "    tab = []\n",
    "    while b < n:\n",
    "        a, b = b, a + b\n",
    "        tab.append(a)\n",
    "    return tab\n",
    "print(fibonacci(100))"
   ]
  },
  {
   "cell_type": "code",
   "execution_count": 81,
   "metadata": {},
   "outputs": [
    {
     "name": "stdout",
     "output_type": "stream",
     "text": [
      "dict_keys(['pommes', 'bananes', 'poires'])\n",
      "dict_values([100, 80, 120])\n",
      "3\n"
     ]
    }
   ],
   "source": [
    "# Dictionnaires\n",
    "inventaire = {\n",
    "    \"pommes\": 100,\n",
    "    \"bananes\": 80,\n",
    "    \"poires\": 120\n",
    "}\n",
    "\n",
    "# Récupération des clés du dictionnaire\n",
    "print(inventaire.keys())\n",
    "# Récupération des valeurs du dictionnaire\n",
    "print(inventaire.values())\n",
    "# Récupération de la longueur du dictionnaire\n",
    "print(len(inventaire))"
   ]
  },
  {
   "cell_type": "code",
   "execution_count": 87,
   "metadata": {},
   "outputs": [
    {
     "name": "stdout",
     "output_type": "stream",
     "text": [
      "{'négatifs': [-20], 'positifs': []}\n"
     ]
    }
   ],
   "source": [
    "classeur = {\n",
    "    'négatifs' : [],\n",
    "    'positifs': []\n",
    "}\n",
    "\n",
    "def trier(classeur, valeur):\n",
    "    if valeur < 0:\n",
    "        classeur['négatifs'].append(valeur)\n",
    "    elif valeur > 0:\n",
    "        classeur['positifs'].append(valeur)\n",
    "    return classeur\n",
    "\n",
    "print(trier(classeur, -20))"
   ]
  },
  {
   "cell_type": "code",
   "execution_count": 91,
   "metadata": {},
   "outputs": [
    {
     "name": "stdout",
     "output_type": "stream",
     "text": [
      "{'négatifs': [-20], 'positifs': [10, 15]}\n",
      "[-20]\n",
      "[10, 15]\n"
     ]
    }
   ],
   "source": [
    "classeur = {\n",
    "    'négatifs' : [],\n",
    "    'positifs': []\n",
    "}\n",
    "\n",
    "def trier(classeur, valeur=[]):\n",
    "    for el in valeur:\n",
    "        if el < 0:\n",
    "            classeur['négatifs'].append(el)\n",
    "        elif el > 0:\n",
    "            classeur['positifs'].append(el)\n",
    "    return classeur\n",
    "\n",
    "print(trier(classeur, [10, -20, 15]))\n",
    "print(classeur.get(\"négatifs\"))\n",
    "print(classeur.get(\"positifs\"))"
   ]
  },
  {
   "cell_type": "code",
   "execution_count": 3,
   "metadata": {},
   "outputs": [
    {
     "name": "stdout",
     "output_type": "stream",
     "text": [
      "CPU times: total: 31.2 ms\n",
      "Wall time: 27.9 ms\n"
     ]
    }
   ],
   "source": [
    "%%time\n",
    "listes = []\n",
    "for i in range(100000):\n",
    "    listes.append(i**2)"
   ]
  },
  {
   "cell_type": "code",
   "execution_count": 4,
   "metadata": {},
   "outputs": [
    {
     "name": "stdout",
     "output_type": "stream",
     "text": [
      "CPU times: total: 0 ns\n",
      "Wall time: 15 ms\n"
     ]
    }
   ],
   "source": [
    "%%time\n",
    "listes = [i**2 for i in range(100000)]"
   ]
  },
  {
   "cell_type": "code",
   "execution_count": 12,
   "metadata": {},
   "outputs": [
    {
     "name": "stdout",
     "output_type": "stream",
     "text": [
      "{1: 1, 2: 4, 3: 9, 4: 16, 5: 25, 6: 36, 7: 49, 8: 64, 9: 81, 10: 100, 11: 121, 12: 144, 13: 169, 14: 196, 15: 225, 16: 256, 17: 289, 18: 324, 19: 361, 20: 400}\n",
      "CPU times: total: 0 ns\n",
      "Wall time: 1.01 ms\n"
     ]
    }
   ],
   "source": [
    "%%time\n",
    "dico = {i: i**2 for i in range(1,21)}\n",
    "print(dico)"
   ]
  },
  {
   "cell_type": "code",
   "execution_count": 13,
   "metadata": {},
   "outputs": [
    {
     "name": "stdout",
     "output_type": "stream",
     "text": [
      "True False\n"
     ]
    }
   ],
   "source": [
    "liste = [0, 1, 5]\n",
    "anyText = any(liste)\n",
    "allText = all(liste)\n",
    "print (anyText, allText)"
   ]
  },
  {
   "cell_type": "code",
   "execution_count": 23,
   "metadata": {},
   "outputs": [
    {
     "name": "stdout",
     "output_type": "stream",
     "text": [
      "hello kola!\n",
      "il fait PARIS beau à France!\n",
      "il fait PARIS beau à France\n"
     ]
    }
   ],
   "source": [
    "text = \"hello {name}!\"\n",
    "names = \"kola\"\n",
    "print(text.format(name=names))\n",
    "\n",
    "x= \"PARIS\"\n",
    "ville = \"France\"\n",
    "message = \"il fait {} beau à {}!\".format(x, ville)\n",
    "print(message)\n",
    "\n",
    "variable = f'il fait {x} beau à {ville}'\n",
    "print(variable)"
   ]
  },
  {
   "cell_type": "code",
   "execution_count": 25,
   "metadata": {},
   "outputs": [
    {
     "name": "stdout",
     "output_type": "stream",
     "text": [
      "hello\n"
     ]
    }
   ],
   "source": [
    "age = input(\"Entre ton âge\")\n",
    "print(age)"
   ]
  },
  {
   "cell_type": "code",
   "execution_count": 31,
   "metadata": {},
   "outputs": [],
   "source": [
    "# Ouvrir un fichier en mode écriture\n",
    "with open('fichier.txt', 'w') as f:\n",
    "    for i in range (0, 20):\n",
    "        f.write(f'{i}: {i**2} \\n')\n",
    "    f.close()"
   ]
  },
  {
   "cell_type": "code",
   "execution_count": 44,
   "metadata": {},
   "outputs": [
    {
     "name": "stdout",
     "output_type": "stream",
     "text": [
      "['0: 0', '1: 1', '2: 4', '3: 9', '4: 16', '5: 25', '6: 36', '7: 49', '8: 64', '9: 81', '10: 100', '11: 121', '12: 144', '13: 169', '14: 196', '15: 225', '16: 256', '17: 289', '18: 324', '19: 361']\n"
     ]
    }
   ],
   "source": [
    "# Ouvrir un fichier en mode lecture\n",
    "with open('fichier.txt', 'r') as f:\n",
    "    f.seek(0)  # Remettre le curseur de lecture au début du fichier\n",
    "    \n",
    "    # Supprimez les caractères de saut de ligne des lignes strip()\n",
    "    # lignes est ma nouvelle liste qui va stocker les données du fichier\n",
    "    lignes = [i.strip() for i in f.readlines()]  # Lire les lignes du fichier\n",
    "print(lignes)"
   ]
  },
  {
   "cell_type": "code",
   "execution_count": 50,
   "metadata": {},
   "outputs": [
    {
     "name": "stdout",
     "output_type": "stream",
     "text": [
      "['0: 0 ', '1: 1 ', '2: 4 ', '3: 9 ', '4: 16 ', '5: 25 ', '6: 36 ', '7: 49 ', '8: 64 ', '9: 81 ', '10: 100 ', '11: 121 ', '12: 144 ', '13: 169 ', '14: 196 ', '15: 225 ', '16: 256 ', '17: 289 ', '18: 324 ', '19: 361 ']\n"
     ]
    }
   ],
   "source": [
    "# Ouvrir un fichier en mode lecture\n",
    "listes = open('fichier.txt', 'r').read().splitlines()\n",
    "print(listes)"
   ]
  },
  {
   "cell_type": "code",
   "execution_count": 40,
   "metadata": {},
   "outputs": [
    {
     "name": "stdout",
     "output_type": "stream",
     "text": [
      "['0: 0 ', '1: 1 ', '2: 4 ', '3: 9 ', '4: 16 ', '5: 25 ', '6: 36 ', '7: 49 ', '8: 64 ', '9: 81 ', '10: 100 ', '11: 121 ', '12: 144 ', '13: 169 ', '14: 196 ', '15: 225 ', '16: 256 ', '17: 289 ', '18: 324 ', '19: 361 ']\n"
     ]
    }
   ],
   "source": [
    "# Ouvrir un fichier en mode lecture\n",
    "with open('fichier.txt', 'r') as f:\n",
    "    lignes = f.read().splitlines()\n",
    "print(lignes)"
   ]
  }
 ],
 "metadata": {
  "kernelspec": {
   "display_name": "Python 3",
   "language": "python",
   "name": "python3"
  },
  "language_info": {
   "codemirror_mode": {
    "name": "ipython",
    "version": 3
   },
   "file_extension": ".py",
   "mimetype": "text/x-python",
   "name": "python",
   "nbconvert_exporter": "python",
   "pygments_lexer": "ipython3",
   "version": "3.11.4"
  },
  "orig_nbformat": 4,
  "vscode": {
   "interpreter": {
    "hash": "0aff181140c6cefaaaf72e346b8c4ff97d18d0699fd8c1d0fe1c867bf0852954"
   }
  }
 },
 "nbformat": 4,
 "nbformat_minor": 2
}
