{
 "cells": [
  {
   "cell_type": "code",
   "execution_count": 2,
   "metadata": {},
   "outputs": [
    {
     "name": "stdout",
     "output_type": "stream",
     "text": [
      "   pclass  survived                                             name     sex  \\\n",
      "0       1         1                    Allen, Miss. Elisabeth Walton  female   \n",
      "1       1         1                   Allison, Master. Hudson Trevor    male   \n",
      "2       1         0                     Allison, Miss. Helen Loraine  female   \n",
      "3       1         0             Allison, Mr. Hudson Joshua Creighton    male   \n",
      "4       1         0  Allison, Mrs. Hudson J C (Bessie Waldo Daniels)  female   \n",
      "\n",
      "       age  sibsp  parch  ticket      fare    cabin embarked boat   body  \\\n",
      "0  29.0000      0      0   24160  211.3375       B5        S    2    NaN   \n",
      "1   0.9167      1      2  113781  151.5500  C22 C26        S   11    NaN   \n",
      "2   2.0000      1      2  113781  151.5500  C22 C26        S  NaN    NaN   \n",
      "3  30.0000      1      2  113781  151.5500  C22 C26        S  NaN  135.0   \n",
      "4  25.0000      1      2  113781  151.5500  C22 C26        S  NaN    NaN   \n",
      "\n",
      "                         home.dest  \n",
      "0                     St Louis, MO  \n",
      "1  Montreal, PQ / Chesterville, ON  \n",
      "2  Montreal, PQ / Chesterville, ON  \n",
      "3  Montreal, PQ / Chesterville, ON  \n",
      "4  Montreal, PQ / Chesterville, ON  \n"
     ]
    }
   ],
   "source": [
    "import pandas as pd\n",
    "import numpy\n",
    "import matplotlib\n",
    "\n",
    "# Charger un fichier Excel (XLS ou XLSX)\n",
    "df_excel = pd.read_excel('titanic.xls')  # ou pd.read_excel('votre_fichier.xlsx')\n",
    "\n",
    "# Afficher les premières lignes du DataFrame\n",
    "print(df_excel.head())\n",
    "\n",
    "# j'ai installé pip install xlrd>=2.0.1 pour lire un fichier excel avec pandas"
   ]
  },
  {
   "cell_type": "code",
   "execution_count": 4,
   "metadata": {},
   "outputs": [
    {
     "name": "stdout",
     "output_type": "stream",
     "text": [
      "Shape du DataFrame : (1309, 14)\n",
      "Entêtes du DataFrame : Index(['pclass', 'survived', 'name', 'sex', 'age', 'sibsp', 'parch', 'ticket',\n",
      "       'fare', 'cabin', 'embarked', 'boat', 'body', 'home.dest'],\n",
      "      dtype='object')\n"
     ]
    }
   ],
   "source": [
    "import pandas as pd\n",
    "\n",
    "# Charger un fichier xls\n",
    "df_xls = pd.read_excel('titanic.xls')\n",
    "\n",
    "# Afficher la forme du DataFrame (nombre de lignes et de colonnes)\n",
    "print(\"Shape du DataFrame :\", df_xls.shape)\n",
    "\n",
    "# Afficher les entêtes (noms des colonnes) du DataFrame\n",
    "print(\"Entêtes du DataFrame :\", df_xls.columns)"
   ]
  },
  {
   "cell_type": "code",
   "execution_count": 6,
   "metadata": {},
   "outputs": [
    {
     "name": "stdout",
     "output_type": "stream",
     "text": [
      "Statistiques pour la colonne 'age':\n",
      "count    1046.000000\n",
      "mean       29.881135\n",
      "std        14.413500\n",
      "min         0.166700\n",
      "25%        21.000000\n",
      "50%        28.000000\n",
      "75%        39.000000\n",
      "max        80.000000\n",
      "Name: age, dtype: float64\n",
      "\n",
      "Statistiques pour la colonne 'pclass':\n",
      "count    1309.000000\n",
      "mean        2.294882\n",
      "std         0.837836\n",
      "min         1.000000\n",
      "25%         2.000000\n",
      "50%         3.000000\n",
      "75%         3.000000\n",
      "max         3.000000\n",
      "Name: pclass, dtype: float64\n"
     ]
    }
   ],
   "source": [
    "import pandas as pd\n",
    "\n",
    "# Charger un fichier xls (ou Excel)\n",
    "df = pd.read_excel('titanic.xls')\n",
    "\n",
    "# Afficher des statistiques descriptives pour la colonne \"age\"\n",
    "print(\"Statistiques pour la colonne 'age':\")\n",
    "print(df['age'].describe())\n",
    "\n",
    "# Afficher des statistiques descriptives pour la colonne \"pclass\"\n",
    "print(\"\\nStatistiques pour la colonne 'pclass':\")\n",
    "print(df['pclass'].describe())"
   ]
  },
  {
   "cell_type": "code",
   "execution_count": 7,
   "metadata": {},
   "outputs": [
    {
     "name": "stdout",
     "output_type": "stream",
     "text": [
      "Lignes avec des données manquantes :\n",
      "      pclass  survived                                             name  \\\n",
      "0          1         1                    Allen, Miss. Elisabeth Walton   \n",
      "1          1         1                   Allison, Master. Hudson Trevor   \n",
      "2          1         0                     Allison, Miss. Helen Loraine   \n",
      "3          1         0             Allison, Mr. Hudson Joshua Creighton   \n",
      "4          1         0  Allison, Mrs. Hudson J C (Bessie Waldo Daniels)   \n",
      "...      ...       ...                                              ...   \n",
      "1304       3         0                             Zabour, Miss. Hileni   \n",
      "1305       3         0                            Zabour, Miss. Thamine   \n",
      "1306       3         0                        Zakarian, Mr. Mapriededer   \n",
      "1307       3         0                              Zakarian, Mr. Ortin   \n",
      "1308       3         0                               Zimmerman, Mr. Leo   \n",
      "\n",
      "         sex      age  sibsp  parch  ticket      fare    cabin embarked boat  \\\n",
      "0     female  29.0000      0      0   24160  211.3375       B5        S    2   \n",
      "1       male   0.9167      1      2  113781  151.5500  C22 C26        S   11   \n",
      "2     female   2.0000      1      2  113781  151.5500  C22 C26        S  NaN   \n",
      "3       male  30.0000      1      2  113781  151.5500  C22 C26        S  NaN   \n",
      "4     female  25.0000      1      2  113781  151.5500  C22 C26        S  NaN   \n",
      "...      ...      ...    ...    ...     ...       ...      ...      ...  ...   \n",
      "1304  female  14.5000      1      0    2665   14.4542      NaN        C  NaN   \n",
      "1305  female      NaN      1      0    2665   14.4542      NaN        C  NaN   \n",
      "1306    male  26.5000      0      0    2656    7.2250      NaN        C  NaN   \n",
      "1307    male  27.0000      0      0    2670    7.2250      NaN        C  NaN   \n",
      "1308    male  29.0000      0      0  315082    7.8750      NaN        S  NaN   \n",
      "\n",
      "       body                        home.dest  \n",
      "0       NaN                     St Louis, MO  \n",
      "1       NaN  Montreal, PQ / Chesterville, ON  \n",
      "2       NaN  Montreal, PQ / Chesterville, ON  \n",
      "3     135.0  Montreal, PQ / Chesterville, ON  \n",
      "4       NaN  Montreal, PQ / Chesterville, ON  \n",
      "...     ...                              ...  \n",
      "1304  328.0                              NaN  \n",
      "1305    NaN                              NaN  \n",
      "1306  304.0                              NaN  \n",
      "1307    NaN                              NaN  \n",
      "1308    NaN                              NaN  \n",
      "\n",
      "[1309 rows x 14 columns]\n",
      "\n",
      "Colonnes avec des données manquantes :\n",
      "Index(['age', 'fare', 'cabin', 'embarked', 'boat', 'body', 'home.dest'], dtype='object')\n"
     ]
    }
   ],
   "source": [
    "import pandas as pd\n",
    "\n",
    "df = pd.read_excel('titanic.xls')\n",
    "\n",
    "# Identifier les lignes avec des données manquantes\n",
    "lignes_manquantes = df[df.isnull().any(axis=1)]\n",
    "\n",
    "# Identifier les colonnes avec des données manquantes\n",
    "colonnes_manquantes = df.columns[df.isnull().any()]\n",
    "\n",
    "# Afficher les lignes avec des données manquantes\n",
    "print(\"Lignes avec des données manquantes :\")\n",
    "print(lignes_manquantes)\n",
    "\n",
    "# Afficher les colonnes avec des données manquantes\n",
    "print(\"\\nColonnes avec des données manquantes :\")\n",
    "print(colonnes_manquantes)"
   ]
  },
  {
   "cell_type": "code",
   "execution_count": 12,
   "metadata": {},
   "outputs": [
    {
     "data": {
      "image/png": "[encoded data removed]",
      "text/plain": [
       "<Figure size 800x600 with 1 Axes>"
      ]
     },
     "metadata": {},
     "output_type": "display_data"
    },
    {
     "data": {
      "image/png": "[encoded data removed]",
      "text/plain": [
       "<Figure size 800x600 with 1 Axes>"
      ]
     },
     "metadata": {},
     "output_type": "display_data"
    }
   ],
   "source": [
    "import pandas as pd\n",
    "import matplotlib.pyplot as plt\n",
    "\n",
    "df = pd.read_excel('titanic.xls')\n",
    "\n",
    "# Créer un histogramme pour la colonne 'pclass'\n",
    "plt.figure(figsize=(8, 6))\n",
    "plt.hist(df['pclass'], bins=3, color='skyblue', edgecolor='black')\n",
    "plt.title('Histogramme des Classes')\n",
    "plt.xlabel('Classe')\n",
    "plt.ylabel('Nombre de Passagers')\n",
    "plt.xticks([1, 2, 3])  # Si vos classes sont 1, 2 et 3\n",
    "plt.show()\n",
    "\n",
    "# Créer un histogramme pour la colonne 'age'\n",
    "plt.figure(figsize=(8, 6))\n",
    "plt.hist(df['age'].dropna(), bins=30, color='salmon', edgecolor='black')\n",
    "plt.title('Histogramme des Âges')\n",
    "plt.xlabel('Âge')\n",
    "plt.ylabel('Nombre de Passagers')\n",
    "plt.show()"
   ]
  },
  {
   "cell_type": "code",
   "execution_count": 14,
   "metadata": {},
   "outputs": [
    {
     "name": "stdout",
     "output_type": "stream",
     "text": [
      "Moyenne de l'âge pour les survivants et les non-survivants :\n",
      "survived\n",
      "0    30.545369\n",
      "1    28.918228\n",
      "Name: age, dtype: float64\n"
     ]
    }
   ],
   "source": [
    "import pandas as pd\n",
    "\n",
    "df = pd.read_excel('titanic.xls')\n",
    "\n",
    "moyenne_age_par_survival = df.groupby('survived')['age'].mean()\n",
    "\n",
    "# Afficher les résultats\n",
    "print(\"Moyenne de l'âge pour les survivants et les non-survivants :\")\n",
    "print(moyenne_age_par_survival)"
   ]
  }
 ],
 "metadata": {
  "kernelspec": {
   "display_name": "Python 3",
   "language": "python",
   "name": "python3"
  },
  "language_info": {
   "codemirror_mode": {
    "name": "ipython",
    "version": 3
   },
   "file_extension": ".py",
   "mimetype": "text/x-python",
   "name": "python",
   "nbconvert_exporter": "python",
   "pygments_lexer": "ipython3",
   "version": "3.11.4 (tags/v3.11.4:d2340ef, Jun  7 2023, 05:45:37) [MSC v.1934 64 bit (AMD64)]"
  },
  "orig_nbformat": 4,
  "vscode": {
   "interpreter": {
    "hash": "0aff181140c6cefaaaf72e346b8c4ff97d18d0699fd8c1d0fe1c867bf0852954"
   }
  }
 },
 "nbformat": 4,
 "nbformat_minor": 2
}
