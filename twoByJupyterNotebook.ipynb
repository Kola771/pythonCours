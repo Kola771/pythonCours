{
 "cells": [
  {
   "cell_type": "code",
   "execution_count": 2,
   "metadata": {},
   "outputs": [
    {
     "name": "stdout",
     "output_type": "stream",
     "text": [
      "2.0\n",
      "3.141592653589793\n"
     ]
    }
   ],
   "source": [
    "# Importation du module math\n",
    "import math\n",
    "# Pour avoir la racine carrée d'un nombre on utilise sqrt()\n",
    "print(math.sqrt(4))\n",
    "# Pour connaître la valeur de pi, on utilise pi\n",
    "print(math.pi)"
   ]
  },
  {
   "cell_type": "code",
   "execution_count": 29,
   "metadata": {},
   "outputs": [
    {
     "name": "stdout",
     "output_type": "stream",
     "text": [
      "orange 80\n",
      "90\n",
      "la couleur de la voiture est: orange.\n"
     ]
    }
   ],
   "source": [
    "# Classe en python\n",
    "class Vehicule:\n",
    "    # Voici notre constructor\n",
    "    def __init__(self, couleur='blue', vitesse=0):\n",
    "        self.couleur = couleur\n",
    "        self.vitesse = vitesse\n",
    "    \n",
    "    # Création d'une méthode\n",
    "    def acceleration(self, vitesse):\n",
    "        self.vitesse += vitesse\n",
    "        \n",
    "    def description(self):\n",
    "        print (f'la couleur de la voiture est: {self.couleur}.')\n",
    "        \n",
    "mercedes = Vehicule(\"orange\", 80)\n",
    "print(mercedes.couleur, mercedes.vitesse)\n",
    "mercedes.acceleration(10)\n",
    "print(mercedes.vitesse)\n",
    "mercedes.description()"
   ]
  },
  {
   "cell_type": "code",
   "execution_count": 45,
   "metadata": {},
   "outputs": [
    {
     "name": "stdout",
     "output_type": "stream",
     "text": [
      "100 0\n",
      "97.0 30\n"
     ]
    }
   ],
   "source": [
    "# Création d'une sous-classe\n",
    "class voiture_electrique(Vehicule):\n",
    "\n",
    "  def __init__(self, couleur='black', vitesse=0, autonomie=100):\n",
    "    super().__init__(couleur, vitesse) # super() permet d'utiliser la fonction de la classe \"parent\"\n",
    "    self.autonomie = autonomie\n",
    "    \n",
    "    # Ré-écriture de certaaines méthodes\n",
    "  def acceleration(self, vitesse):\n",
    "    super().acceleration(vitesse)\n",
    "    self.autonomie -= 0.1 *self.vitesse\n",
    "\n",
    "renault = voiture_electrique(\"blue\")\n",
    "print(renault.autonomie, renault.vitesse)\n",
    "renault.acceleration(30)\n",
    "print(renault.autonomie, renault.vitesse)"
   ]
  },
  {
   "cell_type": "code",
   "execution_count": 35,
   "metadata": {},
   "outputs": [
    {
     "name": "stdout",
     "output_type": "stream",
     "text": [
      "couleur: bleue\n",
      "roues: 4\n",
      "vitesse: 110\n",
      "couleur: blanche\n",
      "roues: 4\n",
      "vitesse: 140\n",
      "autonomie: 86.0\n",
      "86.0\n"
     ]
    }
   ],
   "source": [
    "class vehicule:\n",
    "  \"\"\"\n",
    "  Voici un exemple de classe \"vehicule\" qui contient le plan de conception\n",
    "  d'objets \"véhicules\"\n",
    "  \"\"\"\n",
    "\n",
    "  # Une classe commence par une fonction initialisation qui contient les différents attributs\n",
    "  def __init__(self, couleur='noire', vitesse=0, roues=4):\n",
    "    self.couleur = couleur\n",
    "    self.vitesse = vitesse\n",
    "    self.roues = roues\n",
    "    \n",
    "  # voici une méthode \"accelerer\" qui modifie un attribut de l'objet\n",
    "  def accelerer(self, vitesse):\n",
    "    self.vitesse += vitesse\n",
    "\n",
    "  # voici une autre méthode\n",
    "  def stop(self):\n",
    "    self.vitesse = 0\n",
    "\n",
    "  # voici une derniere méthode, tres souvent utilisée\n",
    "  def afficher(self):\n",
    "    print(f'couleur: {self.couleur}\\nroues: {self.roues}\\nvitesse: {self.vitesse}')\n",
    "\n",
    "\n",
    "class voiture_electrique(vehicule):\n",
    "  \"\"\"\n",
    "  La classe moto hérite des méthodes et des attributs de la classe véhicule\n",
    "  \"\"\"\n",
    "\n",
    "  def __init__(self, couleur='black', vitesse=0, roues=4, autonomie=100):\n",
    "    super().__init__(couleur, vitesse, roues) # super() permet d'utiliser la fonction de la classe \"parent\"\n",
    "    self.autonomie = autonomie\n",
    "\n",
    "  # Ré-écriture de certaines méthodes\n",
    "  def accelerer(self, vitesse):\n",
    "    super().accelerer(vitesse)\n",
    "    self.autonomie -= 0.1 *self.vitesse\n",
    "\n",
    "  def afficher(self):\n",
    "    super().afficher()\n",
    "    print(f'autonomie: {self.autonomie}')\n",
    "yaris=vehicule('bleue',10,4)\n",
    "yaris.accelerer(100)\n",
    "yaris.afficher()\n",
    "\n",
    "zoe=voiture_electrique('blanche')\n",
    "zoe.accelerer(140)\n",
    "zoe.afficher()"
   ]
  }
 ],
 "metadata": {
  "kernelspec": {
   "display_name": "Python 3",
   "language": "python",
   "name": "python3"
  },
  "language_info": {
   "codemirror_mode": {
    "name": "ipython",
    "version": 3
   },
   "file_extension": ".py",
   "mimetype": "text/x-python",
   "name": "python",
   "nbconvert_exporter": "python",
   "pygments_lexer": "ipython3",
   "version": "3.11.4"
  },
  "orig_nbformat": 4,
  "vscode": {
   "interpreter": {
    "hash": "0aff181140c6cefaaaf72e346b8c4ff97d18d0699fd8c1d0fe1c867bf0852954"
   }
  }
 },
 "nbformat": 4,
 "nbformat_minor": 2
}
